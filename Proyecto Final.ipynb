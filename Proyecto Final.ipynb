{
 "cells": [
  {
   "cell_type": "markdown",
   "metadata": {},
   "source": [
    "# Instituto Tecnológico de Estudios Superiores de Occidente\n",
    "\n",
    "![nombre de la imagen](https://tys.academia.iteso.mx/wp-content/uploads/sites/39/2015/07/iteso-horizontal.png)\n",
    "\n",
    "# MicroEstructura y Sistemas de Trading\n",
    "## Proyecto Final\n",
    "### Eduardo Omar Ortega\n",
    "### Ángel René Ruiz "
   ]
  },
  {
   "cell_type": "markdown",
   "metadata": {},
   "source": [
    "-------------------------------------------------------------------------------------------------------------------------"
   ]
  },
  {
   "cell_type": "markdown",
   "metadata": {},
   "source": [
    "#### Indicaciones varias\n",
    "Este código se programó con la versión 2 de Python.\n",
    "\n",
    "Para hacer uso del código que se presentará a continuación, deben de estar instaladas las siguientes paqueterías en la computadora respectiva:\n",
    "- numpy\n",
    "- pyswarm\n",
    "- pandas\n",
    "- oandapyv20\n",
    "- pandas\n",
    "- twilio\n",
    "- random\n",
    "- matplotlib.pyplot\n",
    "- date\n",
    "- dateutil.relativedelta"
   ]
  },
  {
   "cell_type": "markdown",
   "metadata": {},
   "source": [
    "## Introducción\n",
    "El presente trabajo tiene como fin realizar una optimización en una herramienta del análisis técnico llamado RSI (Relative Strength Index), aplicado al tipo de cambio USD/MXN en un plazo de 3 años."
   ]
  },
  {
   "cell_type": "markdown",
   "metadata": {},
   "source": [
    "## 0.1 Diagrama de flujo\n",
    "\n",
    "\n",
    "![DF](https://github.com/eduor96/Proyecto_Final/blob/master/Diagrama%20de%20flujo_page-0001.jpg?raw=true)\n",
    "\n",
    "## 0.2\n",
    "Nuestro proceso para la toma de decisiones en esta estrategia se compone de la siguiente manera: \n",
    "\n",
    "Primeramente, insertamos los paramétros a los cuales nos vamos apegar para la toma de decisiones, calculamos el valor del RSI mediante una fórmula matemática que se explicara en el siguiente bloque. Tomando el caso que no existe ninguna operación activa, se compara el valor del RSI contra los parametros previamente introducidos, de complir con alguno se ejectua una orden, ya sea de compra o de venta, dependiendo el valor. Posteriormente, se activa una operación, y continua a los siguientes datos. En el caso de no cumplir con ningun parámetro, se continua a los siguientes datos. Cuando sí existe una operación activa, dependiendo si toca algun parametro de Stop Loss o Take Profit toma cierto camino, de ser el caso que sí toca, automáticamente se cierra la posición y se pone como inactiva la operación. Al final de ambos casos se pasa a los siguientes datos.\n",
    "\n",
    "\n",
    "\n",
    "\t\n"
   ]
  },
  {
   "cell_type": "markdown",
   "metadata": {},
   "source": [
    "## 0.3 Principio Matemático\n",
    "El RSI (Relative Strength Index) es un indicador utilizado en el análisis técnico para predecir tendencias en los precios y saber si un activo se encuentra sobrevaluado o subvaluado. El RSI trata de identificar un cambio de tendencia en los precios de los activos.\n",
    "\n",
    "\n",
    "$$RSI = {100}-{100\\over 1+{AUPC\\over ADPC}}.$$\n",
    "\n",
    "- AUPC: Average of Upward Price Change\n",
    "- ADPC: Average of Downward Price Change"
   ]
  },
  {
   "cell_type": "markdown",
   "metadata": {},
   "source": [
    "# Optimización\n",
    "## 1.1 Identificación de parámetros\n",
    "\n",
    "Los parametros que vamos se optimizarán son los siguientes:\n",
    "- RSI UP: Criterio de RSI superior para considerar como sobrevaluado. (Desde 70 hasta 95, con paso .5)\n",
    "- RSI DOWN: Criterio de RSI superior para considerar como subvaluado. (Desde 5 hasta 30, con paso .5)\n",
    "- Stop Loss: Criterio para cerrar posición si se está perdiendo. (Desde -100 hasta -10, con paso .5)\n",
    "- Take Profit: Criterio para cerrar posición si se está ganando. (Desde -10 hasta 100, con paso .5)\n",
    "- Ventana: Cantidad de periodos a recorrer para la fórmula del RSI. (Desde 14 hasta 56, con paso 1)\n",
    "\n",
    "## 1.2 Espacio de búsqueda\n",
    "Dado que tenemos 5 parámetros para optimizar y cada uno cuenta con diferentes posibles valores, los escenarios posibles son demasiados. El tamaño total del espacio es de:\n",
    "- 3,578,877,162 posibles escenarios\n",
    "\n",
    "## 1.3 Método de optimización\n",
    "El método utilizado para este trabajo es la optimización por enjambres de partículas (conocida como PSO, por sus siglas en inglés, Particle Swarm Optimization).\n",
    "\n",
    "El PSO es una técnica de optimización/búsqueda y se inspira en el comportamiento de los enjambres de animales en la naturaleza. En concreto, podemos pensar en un enjambre de abejas, ya que éstas a la hora de buscar polen buscan la región del espacio en la que existe más densidad de flores, porque la probabilidad de que haya polen es mayor. La misma idea fue trasladada al campo de la computación en forma de algoritmo y se emplea en la actualidad en la optimización de distintos tipos de sistemas.\n",
    "\n"
   ]
  },
  {
   "cell_type": "markdown",
   "metadata": {},
   "source": [
    "# Inicio de Código\n",
    "\n",
    "A continuación se explicará cómo se fue desarrollando el código para lograr los objetivos planteados en un inicio.\n"
   ]
  },
  {
   "cell_type": "markdown",
   "metadata": {},
   "source": [
    "###### Importación de librerías a utilizar"
   ]
  },
  {
   "cell_type": "code",
   "execution_count": 38,
   "metadata": {},
   "outputs": [],
   "source": [
    "import numpy as np\n",
    "from pyswarm import pso\n",
    "import pandas as pd\n",
    "from oandapyV20 import API\n",
    "import oandapyV20.endpoints.instruments as instruments\n",
    "from dateutil.relativedelta import relativedelta\n",
    "import numpy as np\n",
    "import math\n",
    "import time\n",
    "from datetime import datetime\n",
    "from twilio.rest import Client\n",
    "import matplotlib.pyplot as plt\n",
    "import random"
   ]
  },
  {
   "cell_type": "markdown",
   "metadata": {},
   "source": [
    "##### Ponemos folio de cuenta de twilio, así como el token para mandar resultados via SMS en tiempo real"
   ]
  },
  {
   "cell_type": "code",
   "execution_count": 39,
   "metadata": {},
   "outputs": [],
   "source": [
    "account_sid = \"AC7ca38f83e6fec4679c7ed1ff8fa2e036\"\n",
    "# Your Auth Token from twilio.com/console\n",
    "auth_token  = \"dc8dc79a5e89417c4e3319ff0551c265\"\n",
    "\n",
    "client =Client(account_sid, auth_token)"
   ]
  },
  {
   "cell_type": "markdown",
   "metadata": {},
   "source": [
    "##### Definimos las funciones necesarias para los procesos internos del código"
   ]
  },
  {
   "cell_type": "code",
   "execution_count": 79,
   "metadata": {},
   "outputs": [],
   "source": [
    "# =============================================================================\n",
    "# Definimos funciones a utilizar\n",
    "# =============================================================================\n",
    "def drawdown(X):\n",
    "    d_d=[]\n",
    "    mdd = 0\n",
    "    peak = X[0]\n",
    "    trough=X[0]\n",
    "    for x in X:\n",
    "        if x > peak: \n",
    "            peak = x\n",
    "        if x < trough:\n",
    "            trough=x\n",
    "        dd = (peak - trough)\n",
    "        if dd!=0:\n",
    "            d_d.append(dd)   \n",
    "    return d_d  \n",
    "def sms(texto):\n",
    "    message = client.messages.create(\n",
    "        to=\"+523310116171\", \n",
    "        from_=\"+12024101431\",\n",
    "        body=texto)\n",
    "def date_range(start_date, end_date, increment, period):\n",
    "    #Funcion que crea vector de fechas con incremento especifico\n",
    "    result = []\n",
    "    nxt = start_date\n",
    "    delta = relativedelta(**{period:increment})\n",
    "    while nxt <= end_date:\n",
    "        result.append(nxt)\n",
    "        nxt += delta\n",
    "    return result\n",
    "\n",
    "def ag_car(cadena):\n",
    "    #Funcion que agrega caracteres a cadena, fin especifico para funcion de oanda\n",
    "    nueva=cadena[0:10]+\"T\"+cadena[11:-1]+\"Z\"\n",
    "    return nueva\n",
    "def rsi_fun(prices,ind,n):\n",
    "    #Funcion que obtiene el RSI de ciertos precios con cierto periodo\n",
    "    \n",
    "    gains=[]\n",
    "    losses=[]\n",
    "    ind=ind-(n)\n",
    "    for i in range(n) :\n",
    "        dife=float(prices[ind+1])-float(prices[ind])\n",
    "        if dife>=0:\n",
    "            gains.append(dife)\n",
    "        else:\n",
    "            losses.append(dife*-1)\n",
    "        ind=ind+1\n",
    "    gains=np.array(gains)\n",
    "    losses=np.array(losses)\n",
    "    rsi=100-(100/(1+((gains.sum()/n)/(losses.sum()/n))))\n",
    "    return rsi"
   ]
  },
  {
   "cell_type": "markdown",
   "metadata": {},
   "source": [
    "##### Inicialización de parámetros para usar función de Oanda "
   ]
  },
  {
   "cell_type": "code",
   "execution_count": 41,
   "metadata": {},
   "outputs": [],
   "source": [
    "start_date = datetime(2016, 4, 1)\n",
    "end_date = datetime(2019, 4, 1)\n",
    "fechas = date_range(start_date, end_date, 5, 'minutes')#Creamos vector de fechas con intervalo de 5 minutos\n",
    "\n",
    "A1_OA_Da = 17                     # Day Align\n",
    "A1_OA_Ta = \"America/Mexico_City\"  # Time Align\n",
    "\n",
    "A1_OA_Ai = \"101-004-2221697-001\"  # Id de cuenta\n",
    "A1_OA_At = \"practice\"             # Tipo de cuenta\n",
    "\n",
    "A1_OA_In = \"USD_MXN\"              # Instrumento\n",
    "A1_OA_Gn = \"M5\"                   # Granularidad de velas\n",
    "\n",
    "A1_OA_Ak = \"a1a2738e43e01183e07cbb8dec8e2ca4-771e2b55a25bd1f6cb73b42ca4b1f432\"\n",
    "\n",
    "\n",
    "F1=ag_car(str(fechas[0])) #Fecha 1 inicial\n",
    "F2=ag_car(str(fechas[5000])) #Fecha 2 inicial\n",
    "\n",
    "# =============================================================================\n",
    "# Inicializar API de Oanda\n",
    "# =============================================================================\n",
    "api = API(access_token=A1_OA_Ak)\n",
    "#\n",
    "\n",
    "lista = [] #Inicializamos lista \n",
    "n=5000"
   ]
  },
  {
   "cell_type": "markdown",
   "metadata": {},
   "source": [
    "##### Ciclo para descargar precios de oanda"
   ]
  },
  {
   "cell_type": "code",
   "execution_count": 42,
   "metadata": {},
   "outputs": [],
   "source": [
    "while pd.to_datetime(F2)<fechas[-1]:\n",
    "    params = {\"granularity\": A1_OA_Gn, \"price\": \"M\", \"dailyAlignment\": A1_OA_Da,\n",
    "              \"alignmentTimezone\": A1_OA_Ta, \"from\": F1, \"to\": F2}\n",
    "    A1_Req1 = instruments.InstrumentsCandles(instrument=A1_OA_In, params=params)\n",
    "    A1_Hist = api.request(A1_Req1)\n",
    "    \n",
    "    for i in range(len(A1_Hist['candles'])-1):\n",
    "\n",
    "            lista.append({'TimeStamp': A1_Hist['candles'][i]['time'],\n",
    "                          'Open': A1_Hist['candles'][i]['mid']['o'],\n",
    "                          'High': A1_Hist['candles'][i]['mid']['h'],\n",
    "                          'Low': A1_Hist['candles'][i]['mid']['l'],\n",
    "                          'Close': A1_Hist['candles'][i]['mid']['c']})\n",
    "            \n",
    "    F1=ag_car(str(fechas[n+1]))\n",
    "    n=n+5000\n",
    "    try:F2=ag_car(str(fechas[n]))\n",
    "    except IndexError:\n",
    "        break"
   ]
  },
  {
   "cell_type": "markdown",
   "metadata": {},
   "source": [
    "##### Definimos DataFrames de Precios, Operaciones, y Cuenta, donde estaremos llenando la información histórica."
   ]
  },
  {
   "cell_type": "code",
   "execution_count": 43,
   "metadata": {},
   "outputs": [],
   "source": [
    "# =============================================================================\n",
    "# Data Frame 1: Precios\n",
    "# =============================================================================\n",
    "df1_precios = pd.DataFrame(lista)\n",
    "df1_precios = df1_precios[['TimeStamp', 'Open', 'High', 'Low', 'Close']]\n",
    "df1_precios['TimeStamp'] = pd.to_datetime(df1_precios['TimeStamp'])\n",
    "#%%\n",
    "# =============================================================================\n",
    "# Data Frame 2: Operaciones\n",
    "# =============================================================================\n",
    "n=len(df1_precios)\n",
    "data=np.empty((n,8))\n",
    "df2_operaciones=pd.DataFrame(data,columns=['Fecha','Folio','Operacion',\n",
    "                             'Unidades','Margen','Comentario','Precio_Apertura',\n",
    "                             'Precio_Cierre'])\n",
    "df2_operaciones['Fecha']=df1_precios.iloc[:,0]\n",
    "# =============================================================================\n",
    "# Data Frame 3: Cuenta\n",
    "# =============================================================================\n",
    "data=np.empty((n,6))\n",
    "df3_cuenta=pd.DataFrame(data,columns=['Fecha','Capital','Flotante',\n",
    "                             'Balance','Rendimiento','Comentario'])\n",
    "df3_cuenta['Fecha']=df1_precios.iloc[:,0]\n"
   ]
  },
  {
   "cell_type": "markdown",
   "metadata": {},
   "source": [
    "### Definimos nuestra función prinicipal; ésta recibirá los parámetros explicados en un inicio del notebook, regresándonos el rendimiento final \n",
    "#### Nota: Para mandar mensaje sms con twilio es necesario quitar comentarios que digan #sms(texto) "
   ]
  },
  {
   "cell_type": "code",
   "execution_count": 44,
   "metadata": {},
   "outputs": [],
   "source": [
    "def main_function(x):\n",
    "    plt.figure(figsize=(20,10))\n",
    "    up_rsi,down_rsi,stop_loss,take_profit,ventana,fin=x[0],x[1],x[2],x[3],int(x[4]),len(df3_cuenta)\n",
    "    capital_i=100000 #Capital Inicial USD\n",
    "    flotante=0 \n",
    "    df3_cuenta[\"Capital\"][0:ventana]=capital_i\n",
    "    df3_cuenta[\"Flotante\"][0:ventana]=flotante\n",
    "    df3_cuenta[\"Balance\"][0:ventana]=capital_i+flotante\n",
    "    p_o=random.random() #Porcentaje de capital por operacion\n",
    "    cap=capital_i\n",
    "    oper_act=False\n",
    "    folio_v=1\n",
    "    folio_c=1\n",
    "    venta=False\n",
    "    for i in range(ventana,fin):\n",
    "        rsi_=rsi_fun(df1_precios.iloc[:,2],i,ventana)\n",
    "        open_price=float(df1_precios.iloc[i,1])\n",
    "        #hi_price=float(df1_precios.iloc[i,2])\n",
    "        #low_price=float(df1_precios.iloc[i,3])\n",
    "        close_price=float(df1_precios.iloc[i,4])\n",
    "       \n",
    "        if rsi_>=up_rsi and oper_act==False :\n",
    "            #Cambios en Data Frame 2: Operaciones\n",
    "            df2_operaciones.iloc[i,1]=\"V_\"+str(folio_v)\n",
    "            df2_operaciones.iloc[i,2]=-1\n",
    "            monto=p_o*cap\n",
    "            unidades=math.floor(monto)\n",
    "            df2_operaciones.iloc[i,3]=unidades\n",
    "            df2_operaciones.iloc[i,5]=\"RSI a: \"+str(rsi_)\n",
    "            df2_operaciones.iloc[i,6]=open_price\n",
    "            #Cambios en Data Frame 3: Cuenta\n",
    "            cap=cap-monto\n",
    "            df3_cuenta.iloc[i,5]=\"Se abrió operación: venta\"\n",
    "            texto=str(df3_cuenta.iloc[i,0])+\" Se abrió operación: venta\"\n",
    "            plt.axvline(x=df3_cuenta.iloc[i,0],color=\"r\")\n",
    "            #sms(texto)\n",
    "            precio_operacion=open_price\n",
    "            #Cambios generales por operacion\n",
    "            ult_folio=\"V_\"+str(folio_v)\n",
    "            folio_v+=1\n",
    "            oper_act=True\n",
    "            venta=True\n",
    "    \n",
    "        if rsi_<=down_rsi and oper_act==False :\n",
    "            #Cambios en Data Frame 2: Operaciones\n",
    "            df2_operaciones.iloc[i,1]=\"C_\"+str(folio_c)\n",
    "            df2_operaciones.iloc[i,2]=1\n",
    "            monto=p_o*cap\n",
    "            unidades=math.floor(monto)\n",
    "            df2_operaciones.iloc[i,3]=unidades\n",
    "            df2_operaciones.iloc[i,5]=\"RSI a: \"+str(rsi_)\n",
    "            df2_operaciones.iloc[i,6]=open_price\n",
    "            #Cambios en Data Frame 3: Cuenta\n",
    "            cap=cap-monto\n",
    "            df3_cuenta.iloc[i,5]=\"Se abrió operación: compra\"\n",
    "            plt.axvline(x=df3_cuenta.iloc[i,0],color=\"b\")\n",
    "            texto=str(df3_cuenta.iloc[i,0])+\" Se abrió operación: compra\"\n",
    "            #sms(texto)\n",
    "            precio_operacion=open_price\n",
    "            #Cambios generales por operacion\n",
    "            ult_folio=\"C_\"+str(folio_c)\n",
    "            folio_c+=1\n",
    "            oper_act=True\n",
    "        if oper_act==True: #Si existe una operación activa\n",
    "            if venta:#Si la operación activa es una venta\n",
    "                flotante=((precio_operacion-close_price)*unidades)/close_price+unidades\n",
    "            else:\n",
    "                flotante=((close_price-precio_operacion)*unidades)/close_price+unidades\n",
    "            pr_lo= flotante-unidades\n",
    "            if pr_lo>=take_profit or pr_lo<=stop_loss: #Si se cumple alguno de los parametros\n",
    "                df3_cuenta.iloc[i,1]=cap+flotante\n",
    "                cap=cap+flotante\n",
    "                df3_cuenta.iloc[i,2]=0\n",
    "                df3_cuenta.iloc[i,3]=df3_cuenta.iloc[i,1]\n",
    "                df3_cuenta.iloc[i,4]=df3_cuenta.iloc[i,3]/capital_i-1\n",
    "                df3_cuenta.iloc[i,5]=\"Se cerró operación: Con pérdida/ganancia: \" + str(pr_lo)\n",
    "                \n",
    "                df2_operaciones.iloc[i,1]=ult_folio\n",
    "                if pr_lo<=stop_loss: #Si se cumple el stop loss\n",
    "                    df2_operaciones.iloc[i,5]=\"Se ejecutó Stop Loss: \"+str(pr_lo)\n",
    "                else:\n",
    "                    if pr_lo>=take_profit: #Si se cumple el take profit\n",
    "                        df2_operaciones.iloc[i,5]=\"Se ejecutó Take Profit: \"+str(pr_lo)\n",
    "                df2_operaciones.iloc[i,7]=close_price\n",
    "                oper_act=False #Ponemos como inactiva las operación abierta\n",
    "            else: #Si no se cumple ningun parametro (stop loss,take profit)\n",
    "                df3_cuenta.iloc[i,1]=cap\n",
    "                df3_cuenta.iloc[i,2]=flotante\n",
    "                df3_cuenta.iloc[i,3]=df3_cuenta.iloc[i,1]+df3_cuenta.iloc[i,2]\n",
    "                df3_cuenta.iloc[i,4]=df3_cuenta.iloc[i,3]/capital_i-1\n",
    "        else: #si no existe alguna operación activa\n",
    "            df3_cuenta.iloc[i,1]=cap\n",
    "            df3_cuenta.iloc[i,2]=0\n",
    "            df3_cuenta.iloc[i,3]=df3_cuenta.iloc[i,1]+df3_cuenta.iloc[i,2]\n",
    "            df3_cuenta.iloc[i,4]=df3_cuenta.iloc[i,3]/capital_i-1\n",
    "        p_o=random.random()\n",
    "    rendimiento_final=df3_cuenta.iloc[i-1,4]\n",
    "    y=df1_precios[\"Close\"][0:i-1].astype(float)\n",
    "    x=df1_precios.iloc[0:i-1,0]\n",
    "    \n",
    "    plt.plot(x,y)\n",
    "  \n",
    "    \n",
    "    return -rendimiento_final # Se pone como negativo el retorno porque la funcion PSO minimiza, en este caso queremos maximizar\n"
   ]
  },
  {
   "cell_type": "markdown",
   "metadata": {},
   "source": [
    "# NO CORRER (TARDA MUCHO):\n",
    "##### Proceso de optimización mediante modulo PSO de librería pyswarm. \n",
    "Dado que el PSO busca minimizar la función, y nosotros buscamos mazimizar el rendimiento, se puso como negativo el retorno de rendimiento en el main_function().\n",
    "\n",
    "Cabe destacar que este proceso tardó aproximadamente 4-5 días en optimizar. Sin poder obtener cada iteración en la búsqueda de los parámetros.\n",
    "\n",
    "Para evitar correr esta parte del código, se puso un bloqueo donde el usuario tendrá que poner la palabra \"True\" para poder volver a optimizar."
   ]
  },
  {
   "cell_type": "code",
   "execution_count": 43,
   "metadata": {},
   "outputs": [
    {
     "name": "stdout",
     "output_type": "stream",
     "text": [
      "45\n",
      "Acceso Denegado\n"
     ]
    }
   ],
   "source": [
    "permiso=raw_input()\n",
    "\n",
    "if permiso==True:\n",
    "    low_var=[70,5,-100,10,14] #Definimos los valores mínimos de nuestros parámetros\n",
    "    up_var=[95,30,-10,100,56] #Definimos los valores máximos de nuestros parámetros\n",
    "\n",
    "    xopt, fopt = pso(main_function, low_var, up_var, ieqcons=[], f_ieqcons=None, args=(), kwargs={},\n",
    "        swarmsize=1000, omega=0.5, phip=0.5, phig=0.5, maxiter=100, minstep=.5,\n",
    "        minfunc=1e-8, debug=True)\n",
    "else:\n",
    "    print(\"Acceso Denegado\")"
   ]
  },
  {
   "cell_type": "markdown",
   "metadata": {},
   "source": [
    "## 1.4 Visualización de resultados\n",
    "### Resultados de optimización\n",
    "- RSI UP: 95\n",
    "- RSI DOWN: 20\n",
    "- Stop Loss: -10\n",
    "- Take Profit: 80\n",
    "- Ventana: 14\n",
    "\n"
   ]
  },
  {
   "cell_type": "markdown",
   "metadata": {},
   "source": [
    "## 2.1 Gráfico Precio vs Operaciones\n",
    "Se grafica en color azul las operaciones de compra, mientras que las de venta se grafican en rojo. \n",
    "### NOTA: Tarda aproximadamente 3 horas en correr"
   ]
  },
  {
   "cell_type": "code",
   "execution_count": null,
   "metadata": {},
   "outputs": [
    {
     "name": "stderr",
     "output_type": "stream",
     "text": [
      "C:\\Users\\eduor\\Anaconda2\\lib\\site-packages\\ipykernel_launcher.py:6: SettingWithCopyWarning: \n",
      "A value is trying to be set on a copy of a slice from a DataFrame\n",
      "\n",
      "See the caveats in the documentation: http://pandas.pydata.org/pandas-docs/stable/indexing.html#indexing-view-versus-copy\n",
      "  \n",
      "C:\\Users\\eduor\\Anaconda2\\lib\\site-packages\\ipykernel_launcher.py:8: SettingWithCopyWarning: \n",
      "A value is trying to be set on a copy of a slice from a DataFrame\n",
      "\n",
      "See the caveats in the documentation: http://pandas.pydata.org/pandas-docs/stable/indexing.html#indexing-view-versus-copy\n",
      "  \n",
      "C:\\Users\\eduor\\Anaconda2\\lib\\site-packages\\ipykernel_launcher.py:9: SettingWithCopyWarning: \n",
      "A value is trying to be set on a copy of a slice from a DataFrame\n",
      "\n",
      "See the caveats in the documentation: http://pandas.pydata.org/pandas-docs/stable/indexing.html#indexing-view-versus-copy\n",
      "  if __name__ == '__main__':\n",
      "C:\\Users\\eduor\\Anaconda2\\lib\\site-packages\\ipykernel_launcher.py:52: RuntimeWarning: divide by zero encountered in double_scalars\n"
     ]
    }
   ],
   "source": [
    "x=[95,20,-10,80,14]\n",
    "rend_final=main_function(x) #Corremos la funcion con los parámetros óptimos"
   ]
  },
  {
   "cell_type": "markdown",
   "metadata": {},
   "source": [
    "## 2.2 Gráfica de evolución del capital\n",
    "\n"
   ]
  },
  {
   "cell_type": "code",
   "execution_count": 47,
   "metadata": {},
   "outputs": [
    {
     "data": {
      "text/plain": [
       "[<matplotlib.lines.Line2D at 0x15bd4470>]"
      ]
     },
     "execution_count": 47,
     "metadata": {},
     "output_type": "execute_result"
    },
    {
     "data": {
      "image/png": "[encoded data removed]",
      "text/plain": [
       "<Figure size 1440x720 with 1 Axes>"
      ]
     },
     "metadata": {
      "needs_background": "light"
     },
     "output_type": "display_data"
    }
   ],
   "source": [
    "i=10000\n",
    "plt.figure(figsize=(20,10))\n",
    "#i=len(df3_cuenta)\n",
    "x=df1_precios.iloc[0:i,0]\n",
    "y=df3_cuenta[\"Balance\"][0:i].astype(float)\n",
    "plt.plot(x,y)"
   ]
  },
  {
   "cell_type": "markdown",
   "metadata": {},
   "source": [
    "## 3.1 Medidas de Atribución al Desempeño Básicas"
   ]
  },
  {
   "cell_type": "markdown",
   "metadata": {},
   "source": [
    "### Rendimiento Final\n"
   ]
  },
  {
   "cell_type": "code",
   "execution_count": 85,
   "metadata": {},
   "outputs": [
    {
     "data": {
      "text/plain": [
       "0.012261565368454574"
      ]
     },
     "execution_count": 85,
     "metadata": {},
     "output_type": "execute_result"
    }
   ],
   "source": [
    "-rend_final"
   ]
  },
  {
   "cell_type": "markdown",
   "metadata": {},
   "source": [
    "### Desviación Estándar de Rendimientos"
   ]
  },
  {
   "cell_type": "code",
   "execution_count": 22,
   "metadata": {},
   "outputs": [
    {
     "data": {
      "text/plain": [
       "0.013868299807942209"
      ]
     },
     "execution_count": 22,
     "metadata": {},
     "output_type": "execute_result"
    }
   ],
   "source": [
    "desv=df3_cuenta[\"Rendimiento\"].std()\n",
    "desv"
   ]
  },
  {
   "cell_type": "markdown",
   "metadata": {},
   "source": [
    "### Sharpe\n",
    "#### En el cálculo del Sharpe, decidimos utilizar como referencia al IPC. Para ver cuánto estamos generando por encima de éste"
   ]
  },
  {
   "cell_type": "code",
   "execution_count": 31,
   "metadata": {},
   "outputs": [
    {
     "data": {
      "text/plain": [
       "0.5443196613474883"
      ]
     },
     "execution_count": 31,
     "metadata": {},
     "output_type": "execute_result"
    }
   ],
   "source": [
    "ipc=.0364 #Rendimiento Obtenido en el IPC en el mismo plazo\n",
    "sharpe=(-rend_final-ipc)/desv\n",
    "sharpe"
   ]
  },
  {
   "cell_type": "markdown",
   "metadata": {},
   "source": [
    "## 3.2 Medidas de Atribución al Desempeño Trading"
   ]
  },
  {
   "cell_type": "code",
   "execution_count": 83,
   "metadata": {},
   "outputs": [
    {
     "name": "stdout",
     "output_type": "stream",
     "text": [
      "0    1351.260224\n",
      "dtype: float64\n",
      "0    1.034066\n",
      "dtype: float64\n",
      "0    1351.260224\n",
      "dtype: float64\n"
     ]
    }
   ],
   "source": [
    "draw_down=pd.DataFrame(drawdown(df3_cuenta[\"Balance\"]))\n",
    "print(draw_down.max())\n",
    "print(draw_down.min())\n",
    "print(draw_down.median())"
   ]
  },
  {
   "cell_type": "markdown",
   "metadata": {},
   "source": [
    "## 4.1 Rendimiento \n",
    "Como veiamos en el bloque anterior, nuestro rendimiento fue positivo. \n",
    "\n",
    "Dado que nuestra función nos regresa un valor negativo, esto con el fin del proceso de optimización que se explicaba en un inicio; el rendimiento se debe multiplicar por -1 para tener el signo correcto."
   ]
  },
  {
   "cell_type": "code",
   "execution_count": 30,
   "metadata": {},
   "outputs": [
    {
     "data": {
      "text/plain": [
       "0.04394878825492454"
      ]
     },
     "execution_count": 30,
     "metadata": {},
     "output_type": "execute_result"
    }
   ],
   "source": [
    "-rend_final"
   ]
  },
  {
   "cell_type": "markdown",
   "metadata": {},
   "source": [
    "## 4.2 Benchmark\n",
    "En el cálculo del Sharpe observamos que pusimos como benchmark al IPC en el mismo periodo. \n",
    "\n",
    "Como veiamos anteriormente, nuestro rendimiento supera al del IPC por un 3% aproximadamente."
   ]
  },
  {
   "cell_type": "markdown",
   "metadata": {},
   "source": [
    "## 4.3 Ratio DrawDown vs Ganancia\n"
   ]
  },
  {
   "cell_type": "code",
   "execution_count": 90,
   "metadata": {},
   "outputs": [
    {
     "data": {
      "text/plain": [
       "1226.1565368454574"
      ]
     },
     "execution_count": 90,
     "metadata": {},
     "output_type": "execute_result"
    }
   ],
   "source": [
    "ganancia=-rend_final*100000\n",
    "ganancia/draw_down.max()\n",
    "ganancia"
   ]
  }
 ],
 "metadata": {
  "kernelspec": {
   "display_name": "Python 2",
   "language": "python",
   "name": "python2"
  },
  "language_info": {
   "codemirror_mode": {
    "name": "ipython",
    "version": 2
   },
   "file_extension": ".py",
   "mimetype": "text/x-python",
   "name": "python",
   "nbconvert_exporter": "python",
   "pygments_lexer": "ipython2",
   "version": "2.7.15"
  }
 },
 "nbformat": 4,
 "nbformat_minor": 2
}
